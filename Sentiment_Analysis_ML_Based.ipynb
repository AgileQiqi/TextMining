{
 "cells": [
  {
   "cell_type": "code",
   "execution_count": 1,
   "metadata": {},
   "outputs": [],
   "source": [
    "import numpy as np\n",
    "import pandas as pd\n",
    "import re\n",
    "import nltk\n",
    "import xlrd"
   ]
  },
  {
   "cell_type": "code",
   "execution_count": 11,
   "metadata": {},
   "outputs": [],
   "source": [
    "from sklearn.metrics import classification_report, confusion_matrix, accuracy_score\n",
    "from sklearn.metrics import roc_auc_score\n",
    "from sklearn.feature_extraction.text import TfidfVectorizer\n",
    "from sklearn.model_selection import train_test_split\n",
    "from sklearn.naive_bayes import MultinomialNB\n",
    "from sklearn.linear_model import LogisticRegression\n",
    "from sklearn.svm import LinearSVC\n",
    "from sklearn.ensemble import RandomForestClassifier"
   ]
  },
  {
   "cell_type": "code",
   "execution_count": 2,
   "metadata": {},
   "outputs": [],
   "source": [
    "#import label data\n",
    "data_path= 'SentimentCleaning.xlsx'\n",
    "train=pd.read_excel(data_path, sep = ';')"
   ]
  },
  {
   "cell_type": "code",
   "execution_count": 4,
   "metadata": {},
   "outputs": [],
   "source": [
    "#Build vectorizer on Word Level TF IDF Vectors\n",
    "tf=TfidfVectorizer()\n",
    "text_tf= tf.fit_transform(train['remove'])"
   ]
  },
  {
   "cell_type": "code",
   "execution_count": 12,
   "metadata": {},
   "outputs": [],
   "source": [
    "#Functions for using different classifying models\n",
    "def train_model(classifier, feature_vector_train, label, feature_vector_valid,valid_y, is_neural_net=False):\n",
    "    # fit the training dataset on the classifier\n",
    "    classifier=classifier.fit(feature_vector_train, label)\n",
    "    \n",
    "    # predict the labels on validation dataset\n",
    "    predictions = classifier.predict(feature_vector_valid)\n",
    "    \n",
    "    if is_neural_net:\n",
    "        predictions = predictions.argmax(axis=-1)\n",
    "    \n",
    "   # y_predict_probabilities = classifier.predict_proba(label)[:,1]\n",
    "    #print(confusion_matrix(valid_y, predictions))\n",
    "    #print(classification_report(valid_y, predictions)) \n",
    "    #print( roc_auc_score(valid_y, y_predict_probabilities))\n",
    "   # return metrics.accuracy_score(predictions, valid_y)\n",
    "    return accuracy_score(valid_y, predictions)"
   ]
  },
  {
   "cell_type": "code",
   "execution_count": 13,
   "metadata": {},
   "outputs": [
    {
     "data": {
      "text/html": [
       "<div>\n",
       "<style scoped>\n",
       "    .dataframe tbody tr th:only-of-type {\n",
       "        vertical-align: middle;\n",
       "    }\n",
       "\n",
       "    .dataframe tbody tr th {\n",
       "        vertical-align: top;\n",
       "    }\n",
       "\n",
       "    .dataframe thead th {\n",
       "        text-align: right;\n",
       "    }\n",
       "</style>\n",
       "<table border=\"1\" class=\"dataframe\">\n",
       "  <thead>\n",
       "    <tr style=\"text-align: right;\">\n",
       "      <th></th>\n",
       "      <th>model_name</th>\n",
       "      <th>Vectors</th>\n",
       "      <th>accuracy</th>\n",
       "    </tr>\n",
       "  </thead>\n",
       "  <tbody>\n",
       "    <tr>\n",
       "      <th>0</th>\n",
       "      <td>MultinomialNB</td>\n",
       "      <td>Word Level TF IDF Vectors</td>\n",
       "      <td>0.559524</td>\n",
       "    </tr>\n",
       "    <tr>\n",
       "      <th>1</th>\n",
       "      <td>LogisticRegression</td>\n",
       "      <td>Word Level TF IDF Vectors</td>\n",
       "      <td>0.571429</td>\n",
       "    </tr>\n",
       "    <tr>\n",
       "      <th>2</th>\n",
       "      <td>LinearSVC</td>\n",
       "      <td>Word Level TF IDF Vectors</td>\n",
       "      <td>0.654762</td>\n",
       "    </tr>\n",
       "    <tr>\n",
       "      <th>3</th>\n",
       "      <td>RandomForestClassifier</td>\n",
       "      <td>Word Level TF IDF Vectors</td>\n",
       "      <td>0.571429</td>\n",
       "    </tr>\n",
       "  </tbody>\n",
       "</table>\n",
       "</div>"
      ],
      "text/plain": [
       "               model_name                    Vectors  accuracy\n",
       "0           MultinomialNB  Word Level TF IDF Vectors  0.559524\n",
       "1      LogisticRegression  Word Level TF IDF Vectors  0.571429\n",
       "2               LinearSVC  Word Level TF IDF Vectors  0.654762\n",
       "3  RandomForestClassifier  Word Level TF IDF Vectors  0.571429"
      ]
     },
     "metadata": {},
     "output_type": "display_data"
    }
   ],
   "source": [
    "entries=[]\n",
    "#split train and test set from train dataset\n",
    "X_train_tfidf, X_test_tfidf, y_train_tfidf, y_test_tfidf = train_test_split(\n",
    "    text_tf, train['Mean'], test_size=0.3, random_state=123)\n",
    "\n",
    "entries.clear()\n",
    "\n",
    "# Naive Bayes on Word Level TF IDF Vectors\n",
    "accuracy = train_model(MultinomialNB(), X_train_tfidf, y_train_tfidf, X_test_tfidf,y_test_tfidf)\n",
    "\n",
    "entries.append((MultinomialNB().__class__.__name__, \"Word Level TF IDF Vectors\", accuracy))\n",
    "\n",
    "# LogisticRegression Classifier on Word Level TF IDF Vectors\n",
    "accuracy = train_model(LogisticRegression(solver='lbfgs',multi_class='auto'), X_train_tfidf, y_train_tfidf, X_test_tfidf,y_test_tfidf)\n",
    "entries.append((LogisticRegression().__class__.__name__, \"Word Level TF IDF Vectors\", accuracy))\n",
    "\n",
    "# Linear-SVC Classifier on Word Level TF IDF Vectors\n",
    "accuracy = train_model(LinearSVC(), X_train_tfidf, y_train_tfidf, X_test_tfidf,y_test_tfidf)\n",
    "\n",
    "entries.append((LinearSVC().__class__.__name__, \"Word Level TF IDF Vectors\", accuracy))\n",
    "\n",
    "# RandomForest Classifier on Word Level TF IDF Vectors\n",
    "accuracy = train_model(RandomForestClassifier(n_estimators=100), X_train_tfidf, y_train_tfidf, X_test_tfidf,y_test_tfidf)\n",
    "\n",
    "entries.append((RandomForestClassifier().__class__.__name__, \"Word Level TF IDF Vectors\", accuracy))\n",
    "\n",
    "#transform list to dataframe\n",
    "df1=pd.DataFrame(entries, columns=['model_name', 'Vectors', 'accuracy'])\n",
    "display(df1)"
   ]
  },
  {
   "cell_type": "code",
   "execution_count": null,
   "metadata": {},
   "outputs": [],
   "source": []
  }
 ],
 "metadata": {
  "kernelspec": {
   "display_name": "Python 3",
   "language": "python",
   "name": "python3"
  },
  "language_info": {
   "codemirror_mode": {
    "name": "ipython",
    "version": 3
   },
   "file_extension": ".py",
   "mimetype": "text/x-python",
   "name": "python",
   "nbconvert_exporter": "python",
   "pygments_lexer": "ipython3",
   "version": "3.6.7"
  }
 },
 "nbformat": 4,
 "nbformat_minor": 2
}
