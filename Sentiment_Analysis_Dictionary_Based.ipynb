{
 "cells": [
  {
   "cell_type": "code",
   "execution_count": 5,
   "metadata": {},
   "outputs": [],
   "source": [
    "%run SentimentDictionary.ipynb"
   ]
  },
  {
   "cell_type": "code",
   "execution_count": 43,
   "metadata": {},
   "outputs": [],
   "source": [
    "import numpy as np\n",
    "import pandas as pd\n",
    "import re\n",
    "import xlrd\n",
    "import nltk\n",
    "from sklearn.metrics import accuracy_score"
   ]
  },
  {
   "cell_type": "code",
   "execution_count": 40,
   "metadata": {},
   "outputs": [],
   "source": [
    "#import label data\n",
    "data_path= 'SentimentCleaning.xlsx'\n",
    "train=pd.read_excel(data_path, sep = ';')"
   ]
  },
  {
   "cell_type": "code",
   "execution_count": 41,
   "metadata": {},
   "outputs": [
    {
     "data": {
      "text/html": [
       "<div>\n",
       "<style scoped>\n",
       "    .dataframe tbody tr th:only-of-type {\n",
       "        vertical-align: middle;\n",
       "    }\n",
       "\n",
       "    .dataframe tbody tr th {\n",
       "        vertical-align: top;\n",
       "    }\n",
       "\n",
       "    .dataframe thead th {\n",
       "        text-align: right;\n",
       "    }\n",
       "</style>\n",
       "<table border=\"1\" class=\"dataframe\">\n",
       "  <thead>\n",
       "    <tr style=\"text-align: right;\">\n",
       "      <th></th>\n",
       "      <th>Content</th>\n",
       "      <th>remove</th>\n",
       "      <th>tokenize_sents</th>\n",
       "      <th>Mean</th>\n",
       "    </tr>\n",
       "  </thead>\n",
       "  <tbody>\n",
       "    <tr>\n",
       "      <th>0</th>\n",
       "      <td>en kvinna föll och ådrog sig en skada i ena ax...</td>\n",
       "      <td>föll ådrog skada ena axeln fortfarande stora s...</td>\n",
       "      <td>['föll', 'ådrog', 'skada', 'ena', 'axeln', 'fo...</td>\n",
       "      <td>-1</td>\n",
       "    </tr>\n",
       "    <tr>\n",
       "      <th>1</th>\n",
       "      <td>en kvinna hade genomgått en operation och vård...</td>\n",
       "      <td>genomgått vårdades tillsammans andra patienter...</td>\n",
       "      <td>['genomgått', 'vårdades', 'tillsammans', 'andr...</td>\n",
       "      <td>-1</td>\n",
       "    </tr>\n",
       "    <tr>\n",
       "      <th>2</th>\n",
       "      <td>en man med symtom från mag tarmkanalen sökte a...</td>\n",
       "      <td>symtom akutmottagning sjukhuset gånger rätt di...</td>\n",
       "      <td>['symtom', 'akutmottagning', 'sjukhuset', 'gån...</td>\n",
       "      <td>-1</td>\n",
       "    </tr>\n",
       "    <tr>\n",
       "      <th>3</th>\n",
       "      <td>en kvinna med bröstcancer har genomgått strålb...</td>\n",
       "      <td>genomgått ena bröstet behandlingen försökt kom...</td>\n",
       "      <td>['genomgått', 'ena', 'bröstet', 'behandlingen'...</td>\n",
       "      <td>-1</td>\n",
       "    </tr>\n",
       "    <tr>\n",
       "      <th>4</th>\n",
       "      <td>en kvinna hade problem med trötthet och stort ...</td>\n",
       "      <td>problem stort genomgick undersökningar svar vi...</td>\n",
       "      <td>['problem', 'stort', 'genomgick', 'undersöknin...</td>\n",
       "      <td>0</td>\n",
       "    </tr>\n",
       "  </tbody>\n",
       "</table>\n",
       "</div>"
      ],
      "text/plain": [
       "                                             Content  \\\n",
       "0  en kvinna föll och ådrog sig en skada i ena ax...   \n",
       "1  en kvinna hade genomgått en operation och vård...   \n",
       "2  en man med symtom från mag tarmkanalen sökte a...   \n",
       "3  en kvinna med bröstcancer har genomgått strålb...   \n",
       "4  en kvinna hade problem med trötthet och stort ...   \n",
       "\n",
       "                                              remove  \\\n",
       "0  föll ådrog skada ena axeln fortfarande stora s...   \n",
       "1  genomgått vårdades tillsammans andra patienter...   \n",
       "2  symtom akutmottagning sjukhuset gånger rätt di...   \n",
       "3  genomgått ena bröstet behandlingen försökt kom...   \n",
       "4  problem stort genomgick undersökningar svar vi...   \n",
       "\n",
       "                                      tokenize_sents  Mean  \n",
       "0  ['föll', 'ådrog', 'skada', 'ena', 'axeln', 'fo...    -1  \n",
       "1  ['genomgått', 'vårdades', 'tillsammans', 'andr...    -1  \n",
       "2  ['symtom', 'akutmottagning', 'sjukhuset', 'gån...    -1  \n",
       "3  ['genomgått', 'ena', 'bröstet', 'behandlingen'...    -1  \n",
       "4  ['problem', 'stort', 'genomgick', 'undersöknin...     0  "
      ]
     },
     "execution_count": 41,
     "metadata": {},
     "output_type": "execute_result"
    }
   ],
   "source": [
    "train.head()"
   ]
  },
  {
   "cell_type": "code",
   "execution_count": 10,
   "metadata": {},
   "outputs": [
    {
     "data": {
      "text/html": [
       "<div>\n",
       "<style scoped>\n",
       "    .dataframe tbody tr th:only-of-type {\n",
       "        vertical-align: middle;\n",
       "    }\n",
       "\n",
       "    .dataframe tbody tr th {\n",
       "        vertical-align: top;\n",
       "    }\n",
       "\n",
       "    .dataframe thead th {\n",
       "        text-align: right;\n",
       "    }\n",
       "</style>\n",
       "<table border=\"1\" class=\"dataframe\">\n",
       "  <thead>\n",
       "    <tr style=\"text-align: right;\">\n",
       "      <th></th>\n",
       "      <th>Content</th>\n",
       "      <th>remove</th>\n",
       "      <th>Afinn</th>\n",
       "    </tr>\n",
       "  </thead>\n",
       "  <tbody>\n",
       "    <tr>\n",
       "      <th>0</th>\n",
       "      <td>en kvinna föll och ådrog sig en skada i ena ax...</td>\n",
       "      <td>föll ådrog skada ena axeln fortfarande stora s...</td>\n",
       "      <td>-6</td>\n",
       "    </tr>\n",
       "    <tr>\n",
       "      <th>1</th>\n",
       "      <td>en kvinna hade genomgått en operation och vård...</td>\n",
       "      <td>genomgått vårdades tillsammans andra patienter...</td>\n",
       "      <td>2</td>\n",
       "    </tr>\n",
       "    <tr>\n",
       "      <th>2</th>\n",
       "      <td>en man med symtom från mag tarmkanalen sökte a...</td>\n",
       "      <td>symtom akutmottagning sjukhuset gånger rätt di...</td>\n",
       "      <td>0</td>\n",
       "    </tr>\n",
       "    <tr>\n",
       "      <th>3</th>\n",
       "      <td>en kvinna med bröstcancer har genomgått strålb...</td>\n",
       "      <td>genomgått ena bröstet behandlingen försökt kom...</td>\n",
       "      <td>-2</td>\n",
       "    </tr>\n",
       "    <tr>\n",
       "      <th>4</th>\n",
       "      <td>en kvinna hade problem med trötthet och stort ...</td>\n",
       "      <td>problem stort genomgick undersökningar svar vi...</td>\n",
       "      <td>-5</td>\n",
       "    </tr>\n",
       "  </tbody>\n",
       "</table>\n",
       "</div>"
      ],
      "text/plain": [
       "                                             Content  \\\n",
       "0  en kvinna föll och ådrog sig en skada i ena ax...   \n",
       "1  en kvinna hade genomgått en operation och vård...   \n",
       "2  en man med symtom från mag tarmkanalen sökte a...   \n",
       "3  en kvinna med bröstcancer har genomgått strålb...   \n",
       "4  en kvinna hade problem med trötthet och stort ...   \n",
       "\n",
       "                                              remove  Afinn  \n",
       "0  föll ådrog skada ena axeln fortfarande stora s...     -6  \n",
       "1  genomgått vårdades tillsammans andra patienter...      2  \n",
       "2  symtom akutmottagning sjukhuset gånger rätt di...      0  \n",
       "3  genomgått ena bröstet behandlingen försökt kom...     -2  \n",
       "4  problem stort genomgick undersökningar svar vi...     -5  "
      ]
     },
     "execution_count": 10,
     "metadata": {},
     "output_type": "execute_result"
    }
   ],
   "source": [
    "afinn = Afinn(language='sv')\n",
    "afinn_scores = [afinn.score(text) for text in train.remove]\n",
    "train['Afinn'] = afinn_scores\n",
    "train['Afinn'] = train['Afinn'].astype('int').copy()"
   ]
  },
  {
   "cell_type": "code",
   "execution_count": 35,
   "metadata": {},
   "outputs": [],
   "source": [
    "saldo = SenSaldo(language='se')\n",
    "saldo_scores = [saldo.score(text) for text in train.remove]\n",
    "#saldo_scores = [saldo.score(text) for text in train.Content]\n",
    "train['SenSaldo'] = saldo_scores\n",
    "train['SenSaldo'] = train['SenSaldo'].astype('int').copy()"
   ]
  },
  {
   "cell_type": "code",
   "execution_count": 16,
   "metadata": {},
   "outputs": [],
   "source": [
    "#Combine the Afinn ratings for sentiment analysis(3 levels:'-2','-1','0')\n",
    "conditions = [\n",
    "    (train['Afinn']>=-4),\n",
    "    (train['Afinn']<-4) & (train['Afinn']>-7),\n",
    "    (train['Afinn']<-6)]\n",
    "choices = [0,-1,-2]\n",
    "train['afinn-label'] = np.select(conditions, choices, default='black')\n",
    "train['afinn-label'] = train['afinn-label'].astype('int64')"
   ]
  },
  {
   "cell_type": "code",
   "execution_count": 36,
   "metadata": {},
   "outputs": [],
   "source": [
    "#Combine the Sensaldo ratings for sentiment analysis(3 levels:'-2','-1','0')\n",
    "conditions=[\n",
    "    (train['SenSaldo']>=-2),\n",
    "    (train['SenSaldo']<-2) & (train['SenSaldo']>-8),\n",
    "    (train['SenSaldo']<-7)\n",
    "]\n",
    "choices = [0,-1,-2]\n",
    "train['saldo-label']=np.select(conditions, choices, default='black')\n",
    "train['saldo-label']=train['saldo-label'].astype('int64')"
   ]
  },
  {
   "cell_type": "code",
   "execution_count": null,
   "metadata": {},
   "outputs": [],
   "source": []
  },
  {
   "cell_type": "code",
   "execution_count": 39,
   "metadata": {},
   "outputs": [
    {
     "data": {
      "text/plain": [
       "0.6101083032490975"
      ]
     },
     "execution_count": 39,
     "metadata": {},
     "output_type": "execute_result"
    }
   ],
   "source": [
    "#Afinn dictionary Accuracy\n",
    "accuracy_score(train['Mean'],train['afinn-label'])"
   ]
  },
  {
   "cell_type": "code",
   "execution_count": 38,
   "metadata": {},
   "outputs": [
    {
     "data": {
      "text/plain": [
       "0.6353790613718412"
      ]
     },
     "execution_count": 38,
     "metadata": {},
     "output_type": "execute_result"
    }
   ],
   "source": [
    "#Sensaldo dictionary Accuracy\n",
    "accuracy_score(train['Mean'],train['saldo-label'])"
   ]
  },
  {
   "cell_type": "code",
   "execution_count": 20,
   "metadata": {},
   "outputs": [
    {
     "data": {
      "text/html": [
       "<div>\n",
       "<style scoped>\n",
       "    .dataframe tbody tr th:only-of-type {\n",
       "        vertical-align: middle;\n",
       "    }\n",
       "\n",
       "    .dataframe tbody tr th {\n",
       "        vertical-align: top;\n",
       "    }\n",
       "\n",
       "    .dataframe thead th {\n",
       "        text-align: right;\n",
       "    }\n",
       "</style>\n",
       "<table border=\"1\" class=\"dataframe\">\n",
       "  <thead>\n",
       "    <tr style=\"text-align: right;\">\n",
       "      <th></th>\n",
       "      <th>remove</th>\n",
       "      <th>Mean</th>\n",
       "      <th>afinn-label</th>\n",
       "      <th>saldo-label</th>\n",
       "    </tr>\n",
       "  </thead>\n",
       "  <tbody>\n",
       "    <tr>\n",
       "      <th>0</th>\n",
       "      <td>föll ådrog skada ena axeln fortfarande stora s...</td>\n",
       "      <td>-1</td>\n",
       "      <td>-1</td>\n",
       "      <td>-1</td>\n",
       "    </tr>\n",
       "    <tr>\n",
       "      <th>1</th>\n",
       "      <td>genomgått vårdades tillsammans andra patienter...</td>\n",
       "      <td>-1</td>\n",
       "      <td>0</td>\n",
       "      <td>-1</td>\n",
       "    </tr>\n",
       "    <tr>\n",
       "      <th>2</th>\n",
       "      <td>symtom akutmottagning sjukhuset gånger rätt di...</td>\n",
       "      <td>-1</td>\n",
       "      <td>0</td>\n",
       "      <td>0</td>\n",
       "    </tr>\n",
       "    <tr>\n",
       "      <th>3</th>\n",
       "      <td>genomgått ena bröstet behandlingen försökt kom...</td>\n",
       "      <td>-1</td>\n",
       "      <td>0</td>\n",
       "      <td>0</td>\n",
       "    </tr>\n",
       "    <tr>\n",
       "      <th>4</th>\n",
       "      <td>problem stort genomgick undersökningar svar vi...</td>\n",
       "      <td>0</td>\n",
       "      <td>-1</td>\n",
       "      <td>0</td>\n",
       "    </tr>\n",
       "  </tbody>\n",
       "</table>\n",
       "</div>"
      ],
      "text/plain": [
       "                                              remove  Mean  afinn-label  \\\n",
       "0  föll ådrog skada ena axeln fortfarande stora s...    -1           -1   \n",
       "1  genomgått vårdades tillsammans andra patienter...    -1            0   \n",
       "2  symtom akutmottagning sjukhuset gånger rätt di...    -1            0   \n",
       "3  genomgått ena bröstet behandlingen försökt kom...    -1            0   \n",
       "4  problem stort genomgick undersökningar svar vi...     0           -1   \n",
       "\n",
       "   saldo-label  \n",
       "0           -1  \n",
       "1           -1  \n",
       "2            0  \n",
       "3            0  \n",
       "4            0  "
      ]
     },
     "execution_count": 20,
     "metadata": {},
     "output_type": "execute_result"
    }
   ],
   "source": []
  }
 ],
 "metadata": {
  "kernelspec": {
   "display_name": "Python 3",
   "language": "python",
   "name": "python3"
  },
  "language_info": {
   "codemirror_mode": {
    "name": "ipython",
    "version": 3
   },
   "file_extension": ".py",
   "mimetype": "text/x-python",
   "name": "python",
   "nbconvert_exporter": "python",
   "pygments_lexer": "ipython3",
   "version": "3.6.7"
  }
 },
 "nbformat": 4,
 "nbformat_minor": 2
}
